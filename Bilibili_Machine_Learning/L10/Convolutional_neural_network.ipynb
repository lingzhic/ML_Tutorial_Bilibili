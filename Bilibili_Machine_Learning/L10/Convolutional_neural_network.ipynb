{
 "cells": [
  {
   "cell_type": "code",
   "execution_count": null,
   "metadata": {},
   "outputs": [],
   "source": [
    "from keras.datasets import mnist\n",
    "import numpy as np\n",
    "from keras.models import Sequential\n",
    "from keras.layers import Dense\n",
    "from keras.optimizers import SGD\n",
    "\n",
    "(X_train, Y_train), (X_test, Y_test) = mnist.load_data()"
   ]
  },
  {
   "cell_type": "markdown",
   "metadata": {},
   "source": [
    "## Advantage of Convolutional Neural Network\n",
    "1. Parameter sharing"
   ]
  }
 ],
 "metadata": {
  "interpreter": {
   "hash": "e003047e200babb8cb738162d71285cc1e56eb6168fa0a721a8362669f704d37"
  },
  "kernelspec": {
   "display_name": "Python 3.7.11 64-bit ('Machine_Learning': conda)",
   "name": "python3"
  },
  "language_info": {
   "name": "python",
   "version": "3.7.11"
  },
  "orig_nbformat": 4
 },
 "nbformat": 4,
 "nbformat_minor": 2
}
