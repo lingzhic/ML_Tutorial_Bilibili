{
 "cells": [
  {
   "cell_type": "markdown",
   "metadata": {},
   "source": [
    "# Single Input Neural Network"
   ]
  },
  {
   "cell_type": "markdown",
   "metadata": {},
   "source": [
    "## Single input and two nodes in the first layer"
   ]
  },
  {
   "cell_type": "code",
   "execution_count": 1,
   "metadata": {},
   "outputs": [],
   "source": [
    "import matplotlib.pyplot as plt\n",
    "import dataset\n",
    "import numpy as np\n",
    "\n",
    "# Generate the dataset\n",
    "SAMPLE_SIZE = 100\n",
    "xs,ys = dataset.get_beans(SAMPLE_SIZE)"
   ]
  },
  {
   "cell_type": "markdown",
   "metadata": {},
   "source": [
    "## Input and first layer of neural network\n",
    "\n",
    "Note: The first layer output will be the input of the second layer\n",
    "\n",
    "<img src=\"neural_network.png\" alt=\"A simple neural network\" width=\"300\"/>\n",
    "\n",
    "## Initialise weight and bias of each neuro on each layer\n",
    "For each weight (w) to a neuro -> $w_{ijk}$, represents $i_{th}$ input data class (it could be size, colour, and shape) \n",
    "\n",
    "to the $j_{th}$ neuro in the $k_{th}$ neural network layer\n",
    "\n",
    "e.g. $w_{123}$ represents the weight of 1st data class to the 2nd neuro in the 3rd neural layer\n",
    "\n",
    "For each bias (b) of a neuro -> $b_{mn}$, represents the $m_{th}$ neuro in the $n_{th}$ layer\n",
    "\n",
    "e.g. $b_{21}$ represents the bias of 2nd neuro in the 1st neural layer"
   ]
  },
  {
   "cell_type": "code",
   "execution_count": 2,
   "metadata": {},
   "outputs": [],
   "source": [
    "# The first layer in the neural network\n",
    "w_11_1 = np.random.rand()        # The weight of first input to the first neuro in the first layer of the neural network\n",
    "b_1_1 = np.random.rand()         # The bias of the first neuro in the first layer\n",
    "\n",
    "w_12_1 = np.random.rand()        # The weight of first input to the second neuro in the first layer of the neural network\n",
    "b_2_1 = np.random.rand()         # The bias of the second neuro in the first layer\n",
    "\n",
    "# The second layer in the neural network\n",
    "w_11_2 = np.random.rand()\n",
    "w_21_2 = np.random.rand()\n",
    "b_1_2 = np.random.rand()"
   ]
  },
  {
   "cell_type": "markdown",
   "metadata": {},
   "source": [
    "## Forward propagation"
   ]
  },
  {
   "cell_type": "code",
   "execution_count": 3,
   "metadata": {},
   "outputs": [],
   "source": [
    "# define a sigmoid activation function\n",
    "def sigmoid(z):\n",
    "    return 1/(1+np.exp(-z))\n",
    "\n",
    "# Forward propagation\n",
    "\n",
    "def forward_propagation(x):\n",
    "    # First layer\n",
    "    z_11 = w_11_1*x + b_1_1\n",
    "    a_11 = sigmoid(z_11)            # The output of first neuro in the first layer\n",
    "\n",
    "    z_21 = w_12_1*x + b_2_1\n",
    "    a_21 = sigmoid(z_21)            # The output of second neuro in the first layer\n",
    "\n",
    "    # Second layer\n",
    "    z_12 = w_11_2*a_11 + w_21_2*a_21 + b_1_2\n",
    "    a_12 = sigmoid(z_12)            # The output of first neuro in the second layer\n",
    "\n",
    "    return a_12, z_12, a_21, z_21, a_11, z_11"
   ]
  },
  {
   "cell_type": "markdown",
   "metadata": {},
   "source": [
    "## Backward propagation\n",
    "$error = (y-a_{12})^2$\n",
    "\n",
    "<img src=\"neural_network.png\" alt=\"A simple neural network\" width=\"300\"/>"
   ]
  },
  {
   "cell_type": "code",
   "execution_count": 4,
   "metadata": {},
   "outputs": [
    {
     "data": {
      "image/png": "[encoded data removed]",
      "text/plain": [
       "<Figure size 432x288 with 1 Axes>"
      ]
     },
     "metadata": {
      "needs_background": "light"
     },
     "output_type": "display_data"
    }
   ],
   "source": [
    "# Plot a dynamic plot\n",
    "from IPython import display\n",
    "\n",
    "# # Configure the plot\n",
    "# plt.title(\"Size-Toxicity Function\", fontsize=12)\n",
    "# plt.xlabel('Bean Size')\n",
    "# plt.ylabel('Toxicity')\n",
    "\n",
    "alpha = 0.03   # step factor\n",
    "for m in range(5000):\n",
    "    for i in range(SAMPLE_SIZE):\n",
    "        x = xs[i]\n",
    "        y = ys[i]\n",
    "        # Implement forward propagation first\n",
    "        a_12, z_12, a_21, z_21, a_11, z_11 = forward_propagation(x)\n",
    "\n",
    "        # Then do second layer backward propagation to update weights and biases\n",
    "        # e = (y - a_12)**2\n",
    "        # Get partial differential result for e'(a), a'(z), and z'(w)\n",
    "        deda_12 = -2 * (y - a_12)\n",
    "        da_12dz_12 = a_12 * (1 - a_12)\n",
    "        dz_12dw_11_2 = a_11\n",
    "        dz_12dw_21_2 = a_21\n",
    "        dz_12db_1_2 = 1\n",
    "\n",
    "        # Get dedw and dedb to update the cost function e(w, b)\n",
    "        dedw_11_2 = deda_12 * da_12dz_12 * dz_12dw_11_2\n",
    "        dedw_21_2 = deda_12 * da_12dz_12 * dz_12dw_21_2\n",
    "        dedb_1_2 = deda_12 * da_12dz_12 * dz_12db_1_2\n",
    "\n",
    "\n",
    "        # Then do first layer backward propagation\n",
    "        dz_12da_11 = w_11_2\n",
    "        da_11dz_11 = a_11 * (1 - a_11)\n",
    "        dz_11dw_11_1 = x\n",
    "        dz_11db_1_1 = 1\n",
    "        dedw_11_1 = deda_12 * da_12dz_12 * dz_12da_11 * da_11dz_11 * dz_11dw_11_1\n",
    "        dedb_1_1 = deda_12 * da_12dz_12 * dz_12da_11 * da_11dz_11 * dz_11db_1_1\n",
    "\n",
    "        dz_12da_21 = w_21_2\n",
    "        da_21dz_21 = a_21 * (1 - a_21)\n",
    "        dz_21dw_12_1 = x\n",
    "        dz_21db_2_1 = 1\n",
    "        dedw_12_1 = deda_12 * da_12dz_12 * dz_12da_21 * da_21dz_21 * dz_21dw_12_1\n",
    "        dedb_2_1 = deda_12 * da_12dz_12 * dz_12da_21 * da_21dz_21 * dz_21db_2_1\n",
    "\n",
    "\n",
    "        # Then do gradient descent\n",
    "        # update w and b value according to current gradient\n",
    "        w_11_2 = w_11_2 - alpha * dedw_11_2\n",
    "        w_21_2 = w_21_2 - alpha * dedw_21_2\n",
    "        b_1_2 = b_1_2 - alpha * dedb_1_2\n",
    "\n",
    "        w_11_1 = w_11_1 - alpha * dedw_11_1\n",
    "        w_12_1 = w_12_1 - alpha * dedw_12_1\n",
    "        b_1_1 = b_1_1 - alpha * dedb_1_1\n",
    "        b_2_1 = b_2_1 - alpha * dedb_2_1\n",
    "        \n",
    "\n",
    "    # Plot the curve every 100 step\n",
    "    if m % 100 == 0:\n",
    "        # plot a dynamic fitting curve\n",
    "        plt.clf()\n",
    "        plt.scatter(xs,ys)\n",
    "\n",
    "        # Then another forward propagation to update w and b, note that here should use matrix xs as variable\n",
    "        a_12, z_12, a_21, z_21, a_11, z_11 = forward_propagation(xs)\n",
    "\n",
    "        # Plot the sigmoid function value vs x value\n",
    "        plt.plot(xs, a_12)                        \n",
    "        display.clear_output(wait=True)\n",
    "        plt.pause(0.01)"
   ]
  }
 ],
 "metadata": {
  "interpreter": {
   "hash": "aee8b7b246df8f9039afb4144a1f6fd8d2ca17a180786b69acc140d282b71a49"
  },
  "kernelspec": {
   "display_name": "Python 3.9.2 64-bit",
   "name": "python3"
  },
  "language_info": {
   "codemirror_mode": {
    "name": "ipython",
    "version": 3
   },
   "file_extension": ".py",
   "mimetype": "text/x-python",
   "name": "python",
   "nbconvert_exporter": "python",
   "pygments_lexer": "ipython3",
   "version": "3.9.2"
  },
  "orig_nbformat": 4
 },
 "nbformat": 4,
 "nbformat_minor": 2
}
